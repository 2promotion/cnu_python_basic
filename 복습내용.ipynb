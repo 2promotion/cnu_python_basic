{
 "cells": [
  {
   "cell_type": "markdown",
   "metadata": {},
   "source": [
    "+데이터 전처리  \n",
    "1) 특징(학습 특징) / 라벨(정답) 데이터셋 생성  \n",
    "2) Train / Test 분리  \n",
    "3) 정규화  \n",
    "\n",
    "1. 지도학습  \n",
    " - 분류 (K-최근접이웃 분류, 결정트리)\n",
    " - 회귀 (예측) (K-최근접이웃 회귀, 선형회귀)\n",
    " \n",
    "2. 비지도학습\n",
    " - 클러스터링(군집)\n",
    " \n",
    "+딥러닝(CNN, RNN)"
   ]
  },
  {
   "cell_type": "markdown",
   "metadata": {},
   "source": [
    "### K-최근접 이웃 회귀\n",
    "- 선을 긋지는 않음 (like 선형회귀)  \n",
    "- K의 숫자를 토대로 가까운 3개의 값을 가져옴  \n",
    "- 뽑힌 값의 평균을 내서 한 점의 예측 값을 추출\n",
    "- 데이터 셋이 많아야함 -> 너무 동떨어진 값에 대해 예측을 하기 어려워짐 (성능이 떨어짐)"
   ]
  },
  {
   "cell_type": "markdown",
   "metadata": {},
   "source": [
    "### 선형회귀\n",
    "\n",
    "- 데이터 값들의 오차값이 가장 적은 선을 하나 구함\n",
    "- 원하는 데이터를 넣으면 회귀선에 대입해서 예측 값을 추출\n",
    "\n",
    "Ex) 직선의 방정식 => $y=ax+b$\n",
    "- y: 농어 무게\n",
    "- x: 농어 길이\n",
    "- a: 기울기 ->coefficient(계수)\n",
    "- b: 절편\n",
    "\n"
   ]
  }
 ],
 "metadata": {
  "kernelspec": {
   "display_name": "Python 3",
   "language": "python",
   "name": "python3"
  },
  "language_info": {
   "codemirror_mode": {
    "name": "ipython",
    "version": 3
   },
   "file_extension": ".py",
   "mimetype": "text/x-python",
   "name": "python",
   "nbconvert_exporter": "python",
   "pygments_lexer": "ipython3",
   "version": "3.8.3"
  }
 },
 "nbformat": 4,
 "nbformat_minor": 4
}
